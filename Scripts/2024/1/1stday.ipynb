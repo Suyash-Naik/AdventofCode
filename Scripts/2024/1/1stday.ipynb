{
 "cells": [
  {
   "cell_type": "code",
   "execution_count": 1,
   "metadata": {},
   "outputs": [],
   "source": [
    "import numpy as np\n",
    "import os\n",
    "from glob import glob\n",
    "import pandas as pd\n",
    "from tkinter import filedialog as fd"
   ]
  },
  {
   "cell_type": "code",
   "execution_count": 2,
   "metadata": {},
   "outputs": [
    {
     "name": "stderr",
     "output_type": "stream",
     "text": [
      "2024-12-07 13:20:00.869 python[58069:17214840] +[IMKClient subclass]: chose IMKClient_Modern\n",
      "2024-12-07 13:20:02.540 python[58069:17214840] The class 'NSOpenPanel' overrides the method identifier.  This method is implemented by class 'NSWindow'\n"
     ]
    },
    {
     "name": "stdout",
     "output_type": "stream",
     "text": [
      "Input File is stored in: /Users/snaik/Documents/AdventofCode/Data/2024/1/input.txt\n"
     ]
    }
   ],
   "source": [
    "IF=fd.askopenfilename()\n",
    "matIF=np.loadtxt(IF)\n",
    "print(f\"Input File is stored in: {IF}\")"
   ]
  },
  {
   "cell_type": "code",
   "execution_count": null,
   "metadata": {},
   "outputs": [
    {
     "data": {
      "text/plain": [
       "2367773.0"
      ]
     },
     "execution_count": 21,
     "metadata": {},
     "output_type": "execute_result"
    }
   ],
   "source": [
    "matIF=np.loadtxt(\"/Users/snaik/Documents/AdventofCode/Data/2024/1/input.txt\")\n",
    "\"\"\"\n",
    "This script performs the following operations:\n",
    "1. Loads a matrix from a text file.\n",
    "2. Extracts the first and second columns from the matrix.\n",
    "3. Sorts the extracted columns.\n",
    "4. Computes the absolute difference between the sorted columns.\n",
    "5. Sums the absolute differences.\n",
    "\n",
    "Functions:\n",
    "    None\n",
    "\n",
    "Variables:\n",
    "    matIF (ndarray): The matrix loaded from the text file.\n",
    "    c1 (ndarray): The first column of the matrix.\n",
    "    c2 (ndarray): The second column of the matrix.\n",
    "    c3 (ndarray): The absolute differences between the sorted columns.\n",
    "\n",
    "Returns:\n",
    "    int: The sum of the absolute differences between the sorted columns.\n",
    "\"\"\"\n",
    "# Extract the first column from the matrix\n",
    "c1 = matIF[:, 0]\n",
    "\n",
    "# Extract the second column from the matrix\n",
    "c2 = matIF[:, 1]\n",
    "\n",
    "# Sort the first column\n",
    "c1.sort()\n",
    "\n",
    "# Sort the second column\n",
    "c2.sort()\n",
    "\n",
    "# Compute the absolute differences between the sorted columns\n",
    "c3 = np.abs(c1 - c2)\n",
    "\n",
    "# Sum the absolute differences\n",
    "result = np.sum(c3)\n",
    "print(f\"The sum of the absolute differences is: {result}\")"
   ]
  },
  {
   "cell_type": "code",
   "execution_count": null,
   "metadata": {},
   "outputs": [
    {
     "data": {
      "text/plain": [
       "21271939.0"
      ]
     },
     "execution_count": 49,
     "metadata": {},
     "output_type": "execute_result"
    }
   ],
   "source": [
    "# Find unique elements and their counts in the second column\n",
    "ue, counts = np.unique(c2, return_counts=True)\n",
    "c2dict = dict(zip(ue, counts))\n",
    "\n",
    "# Find unique elements and their counts in the first column\n",
    "ue, counts = np.unique(c1, return_counts=True)\n",
    "c1dict = dict(zip(ue, counts))\n",
    "\n",
    "# Initialize a list to store similarity scores\n",
    "simlist = []\n",
    "\n",
    "# Calculate similarity scores for common elements in both columns\n",
    "for i in c1dict.keys():\n",
    "    if i in c2dict.keys():\n",
    "        simscore = i * c2dict[i]\n",
    "        simlist.append(simscore)\n",
    "\n",
    "# Sum the similarity scores\n",
    "np.sum(simlist)"
   ]
  },
  {
   "cell_type": "code",
   "execution_count": null,
   "metadata": {},
   "outputs": [
    {
     "ename": "ValueError",
     "evalue": "dictionary update sequence element #0 has length 1; 2 is required",
     "output_type": "error",
     "traceback": [
      "\u001b[0;31m---------------------------------------------------------------------------\u001b[0m",
      "\u001b[0;31mValueError\u001b[0m                                Traceback (most recent call last)",
      "\u001b[0;32m/var/folders/ps/1lf2t0nx1tv04z_3pnr9h_0w0000gp/T/ipykernel_58069/1505042126.py\u001b[0m in \u001b[0;36m<module>\u001b[0;34m\u001b[0m\n\u001b[0;32m----> 1\u001b[0;31m \u001b[0mdict\u001b[0m\u001b[0;34m(\u001b[0m\u001b[0mzip\u001b[0m\u001b[0;34m(\u001b[0m\u001b[0mnp\u001b[0m\u001b[0;34m.\u001b[0m\u001b[0munique\u001b[0m\u001b[0;34m(\u001b[0m\u001b[0mc2\u001b[0m\u001b[0;34m,\u001b[0m\u001b[0mreturn_counts\u001b[0m\u001b[0;34m=\u001b[0m\u001b[0;32mTrue\u001b[0m\u001b[0;34m)\u001b[0m\u001b[0;34m)\u001b[0m\u001b[0;34m)\u001b[0m\u001b[0;34m\u001b[0m\u001b[0;34m\u001b[0m\u001b[0m\n\u001b[0m",
      "\u001b[0;31mValueError\u001b[0m: dictionary update sequence element #0 has length 1; 2 is required"
     ]
    }
   ],
   "source": [
    "\n"
   ]
  },
  {
   "cell_type": "code",
   "execution_count": null,
   "metadata": {},
   "outputs": [],
   "source": []
  }
 ],
 "metadata": {
  "kernelspec": {
   "display_name": "snBase",
   "language": "python",
   "name": "python3"
  },
  "language_info": {
   "codemirror_mode": {
    "name": "ipython",
    "version": 3
   },
   "file_extension": ".py",
   "mimetype": "text/x-python",
   "name": "python",
   "nbconvert_exporter": "python",
   "pygments_lexer": "ipython3",
   "version": "3.9.13"
  }
 },
 "nbformat": 4,
 "nbformat_minor": 2
}
