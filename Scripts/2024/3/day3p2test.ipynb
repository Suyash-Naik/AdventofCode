{
 "cells": [
  {
   "cell_type": "code",
   "execution_count": 1,
   "metadata": {},
   "outputs": [],
   "source": [
    "import os\n",
    "import sys\n",
    "import re"
   ]
  },
  {
   "cell_type": "code",
   "execution_count": 5,
   "metadata": {},
   "outputs": [],
   "source": [
    "inputfile=\"/Users/snaik/Documents/AdventofCode/Data/2024/3/input.txt\"\n",
    "with open(inputfile,\"r\") as f:\n",
    "    lines=f.read()\n",
    "\n",
    "pattern=r\"mul\\((\\d+),(\\d+)\\)\"\n",
    "pattern2=r\"don't\\(\\)\"\n",
    "pattern3=r\"do\\(\\)\""
   ]
  },
  {
   "cell_type": "code",
   "execution_count": 7,
   "metadata": {},
   "outputs": [
    {
     "name": "stdout",
     "output_type": "stream",
     "text": [
      "len of newstring is 209 vs len of lines is 18025\n",
      "part2 is 2891392\n",
      "len of newstring is 53 vs len of lines is 17580\n",
      "part2 is 3529341\n",
      "len of newstring is 1413 vs len of lines is 17418\n",
      "part2 is 16125178\n",
      "len of newstring is 67 vs len of lines is 15915\n",
      "part2 is 16299770\n",
      "len of newstring is 150 vs len of lines is 14852\n",
      "part2 is 18253690\n",
      "len of newstring is 994 vs len of lines is 14052\n",
      "part2 is 26888691\n",
      "len of newstring is 412 vs len of lines is 12249\n",
      "part2 is 30081265\n",
      "len of newstring is 41 vs len of lines is 11166\n",
      "part2 is 30150444\n",
      "len of newstring is 280 vs len of lines is 11006\n",
      "part2 is 32134967\n",
      "len of newstring is 610 vs len of lines is 10361\n",
      "part2 is 37529865\n",
      "len of newstring is 99 vs len of lines is 9163\n",
      "part2 is 38478418\n",
      "len of newstring is 716 vs len of lines is 8679\n",
      "part2 is 45703847\n",
      "len of newstring is 229 vs len of lines is 7622\n",
      "part2 is 48389447\n",
      "len of newstring is 680 vs len of lines is 7106\n",
      "part2 is 55165807\n",
      "len of newstring is 866 vs len of lines is 5582\n",
      "part2 is 62843465\n",
      "len of newstring is 223 vs len of lines is 4499\n",
      "part2 is 65049891\n",
      "len of newstring is 195 vs len of lines is 4100\n",
      "part2 is 67887193\n",
      "len of newstring is 152 vs len of lines is 3727\n",
      "part2 is 68782209\n",
      "len of newstring is 216 vs len of lines is 3402\n",
      "part2 is 70253000\n",
      "len of newstring is 548 vs len of lines is 3128\n",
      "part2 is 74974766\n",
      "len of newstring is 102 vs len of lines is 1995\n",
      "part2 is 75596409\n",
      "len of newstring is 38 vs len of lines is 1750\n",
      "part2 is 75763654\n",
      "len of newstring is 254 vs len of lines is 912\n"
     ]
    },
    {
     "data": {
      "text/plain": [
       "75763654"
      ]
     },
     "execution_count": 7,
     "metadata": {},
     "output_type": "execute_result"
    }
   ],
   "source": [
    "inputfile=\"/Users/snaik/Documents/AdventofCode/Data/2024/3/input.txt\"\n",
    "with open(inputfile,\"r\") as f:\n",
    "    lines=f.read()\n",
    "def multi(num1:int,num2:int)->int:\n",
    "    return num1*num2\n",
    "pattern=r\"mul\\((\\d+),(\\d+)\\)\"\n",
    "pattern2=r\"don't\\(\\)\"\n",
    "pattern3=r\"do\\(\\)\"\n",
    "part2=0\n",
    "for _ in re.findall(pattern2,lines):\n",
    "    newstring=lines[:re.search(pattern2,lines).start()]\n",
    "    print(f\"len of newstring is {len(newstring)} vs len of lines is {len(lines)}\")\n",
    "    partline=lines[re.search(pattern2,lines).start():]\n",
    "    if not re.search(pattern3,partline):\n",
    "        break\n",
    "        \n",
    "    lines=partline[re.search(pattern3,partline).start():]\n",
    "    part2+=sum(multi(int(x[0]),int(x[1])) for x in re.findall(pattern,newstring))\n",
    "    print(f\"part2 is {part2}\")\n",
    "\n",
    "part2"
   ]
  },
  {
   "cell_type": "code",
   "execution_count": 17,
   "metadata": {},
   "outputs": [],
   "source": [
    "with open(inputfile, \"r\") as f:\n",
    "    lines = f.read()"
   ]
  },
  {
   "cell_type": "code",
   "execution_count": 6,
   "metadata": {},
   "outputs": [
    {
     "name": "stdout",
     "output_type": "stream",
     "text": [
      "part2 is 2891392\n",
      "part2 is 3529341\n",
      "part2 is 16125178\n",
      "part2 is 16299770\n",
      "part2 is 18253690\n",
      "part2 is 26888691\n",
      "part2 is 30081265\n",
      "part2 is 30150444\n",
      "part2 is 32134967\n",
      "part2 is 37529865\n",
      "part2 is 38478418\n",
      "part2 is 45703847\n",
      "part2 is 48389447\n",
      "part2 is 55165807\n",
      "part2 is 62843465\n",
      "part2 is 65049891\n",
      "part2 is 67887193\n",
      "part2 is 68782209\n",
      "part2 is 70253000\n",
      "part2 is 74974766\n",
      "part2 is 75596409\n",
      "part2 is 75763654\n"
     ]
    }
   ],
   "source": [
    "with open(inputfile, \"r\") as f:\n",
    "    lines = f.read()\n",
    "part2=0\n",
    "while True:\n",
    "    match2=re.search(pattern2,lines)\n",
    "    if not match2:\n",
    "        break\n",
    "    newstring=lines[:match2.start()]\n",
    "    # Update the lines to start from the first next occurrence of pattern3\n",
    "    partline = lines[match2.end():]\n",
    "    match3 = re.search(pattern3, partline)\n",
    "    if not match3:\n",
    "        break\n",
    "\n",
    "    lines = partline[match3.start():]\n",
    "    part2 += sum(multi(int(x[0]), int(x[1])) for x in re.findall(pattern, newstring))\n",
    "    #print(f\"len newstring {len(newstring)}| len lines {len(lines)}\")\n",
    "    print(f\"part2 is {part2}\")\n"
   ]
  },
  {
   "cell_type": "code",
   "execution_count": 6,
   "metadata": {},
   "outputs": [
    {
     "ename": "NameError",
     "evalue": "name 'multi' is not defined",
     "output_type": "error",
     "traceback": [
      "\u001b[0;31m---------------------------------------------------------------------------\u001b[0m",
      "\u001b[0;31mNameError\u001b[0m                                 Traceback (most recent call last)",
      "\u001b[0;32m/var/folders/ps/1lf2t0nx1tv04z_3pnr9h_0w0000gp/T/ipykernel_89254/1028063234.py\u001b[0m in \u001b[0;36m<module>\u001b[0;34m\u001b[0m\n\u001b[0;32m----> 1\u001b[0;31m \u001b[0msum\u001b[0m\u001b[0;34m(\u001b[0m\u001b[0mmulti\u001b[0m\u001b[0;34m(\u001b[0m\u001b[0mint\u001b[0m\u001b[0;34m(\u001b[0m\u001b[0mx\u001b[0m\u001b[0;34m[\u001b[0m\u001b[0;36m0\u001b[0m\u001b[0;34m]\u001b[0m\u001b[0;34m)\u001b[0m\u001b[0;34m,\u001b[0m \u001b[0mint\u001b[0m\u001b[0;34m(\u001b[0m\u001b[0mx\u001b[0m\u001b[0;34m[\u001b[0m\u001b[0;36m1\u001b[0m\u001b[0;34m]\u001b[0m\u001b[0;34m)\u001b[0m\u001b[0;34m)\u001b[0m \u001b[0;32mfor\u001b[0m \u001b[0mx\u001b[0m \u001b[0;32min\u001b[0m \u001b[0mre\u001b[0m\u001b[0;34m.\u001b[0m\u001b[0mfindall\u001b[0m\u001b[0;34m(\u001b[0m\u001b[0mpattern\u001b[0m\u001b[0;34m,\u001b[0m \u001b[0mlines\u001b[0m\u001b[0;34m)\u001b[0m\u001b[0;34m)\u001b[0m\u001b[0;34m\u001b[0m\u001b[0;34m\u001b[0m\u001b[0m\n\u001b[0m",
      "\u001b[0;32m/var/folders/ps/1lf2t0nx1tv04z_3pnr9h_0w0000gp/T/ipykernel_89254/1028063234.py\u001b[0m in \u001b[0;36m<genexpr>\u001b[0;34m(.0)\u001b[0m\n\u001b[0;32m----> 1\u001b[0;31m \u001b[0msum\u001b[0m\u001b[0;34m(\u001b[0m\u001b[0mmulti\u001b[0m\u001b[0;34m(\u001b[0m\u001b[0mint\u001b[0m\u001b[0;34m(\u001b[0m\u001b[0mx\u001b[0m\u001b[0;34m[\u001b[0m\u001b[0;36m0\u001b[0m\u001b[0;34m]\u001b[0m\u001b[0;34m)\u001b[0m\u001b[0;34m,\u001b[0m \u001b[0mint\u001b[0m\u001b[0;34m(\u001b[0m\u001b[0mx\u001b[0m\u001b[0;34m[\u001b[0m\u001b[0;36m1\u001b[0m\u001b[0;34m]\u001b[0m\u001b[0;34m)\u001b[0m\u001b[0;34m)\u001b[0m \u001b[0;32mfor\u001b[0m \u001b[0mx\u001b[0m \u001b[0;32min\u001b[0m \u001b[0mre\u001b[0m\u001b[0;34m.\u001b[0m\u001b[0mfindall\u001b[0m\u001b[0;34m(\u001b[0m\u001b[0mpattern\u001b[0m\u001b[0;34m,\u001b[0m \u001b[0mlines\u001b[0m\u001b[0;34m)\u001b[0m\u001b[0;34m)\u001b[0m\u001b[0;34m\u001b[0m\u001b[0;34m\u001b[0m\u001b[0m\n\u001b[0m",
      "\u001b[0;31mNameError\u001b[0m: name 'multi' is not defined"
     ]
    }
   ],
   "source": [
    "sum(multi(int(x[0]), int(x[1])) for x in re.findall(pattern, lines))"
   ]
  },
  {
   "cell_type": "code",
   "execution_count": 18,
   "metadata": {},
   "outputs": [
    {
     "name": "stdout",
     "output_type": "stream",
     "text": [
      "209\n",
      "2891392\n",
      "53\n",
      "637949\n",
      "1413\n",
      "12595837\n",
      "67\n",
      "174592\n",
      "150\n",
      "1953920\n",
      "994\n",
      "8635001\n",
      "412\n",
      "3192574\n",
      "41\n",
      "69179\n",
      "280\n",
      "1984523\n",
      "610\n",
      "5394898\n",
      "99\n",
      "948553\n",
      "716\n",
      "7225429\n",
      "229\n",
      "2685600\n",
      "680\n",
      "6776360\n",
      "866\n",
      "7677658\n",
      "223\n",
      "2206426\n",
      "195\n",
      "2837302\n",
      "152\n",
      "895016\n",
      "216\n",
      "1470791\n",
      "548\n",
      "4721766\n",
      "102\n",
      "621643\n",
      "38\n",
      "167245\n"
     ]
    }
   ],
   "source": [
    "while True:\n",
    "    match2=re.search(pattern2,lines)\n",
    "    if not match2:\n",
    "        break\n",
    "    newstring=lines[:match2.start()]\n",
    "    # Update the lines to start from the first next occurrence of pattern3\n",
    "    partline = lines[match2.start():]\n",
    "    match3 = re.search(pattern3, partline)\n",
    "    if not match3:\n",
    "        break\n",
    "    lines = partline[match3.start():]\n",
    "    print(len(newstring))\n",
    "    print(sum(multi(int(x[0]), int(x[1])) for x in re.findall(pattern, newstring)))"
   ]
  },
  {
   "cell_type": "code",
   "execution_count": null,
   "metadata": {},
   "outputs": [],
   "source": []
  },
  {
   "cell_type": "code",
   "execution_count": 15,
   "metadata": {},
   "outputs": [
    {
     "data": {
      "text/plain": [
       "151527308"
      ]
     },
     "execution_count": 15,
     "metadata": {},
     "output_type": "execute_result"
    }
   ],
   "source": [
    "part2"
   ]
  },
  {
   "cell_type": "code",
   "execution_count": 46,
   "metadata": {},
   "outputs": [
    {
     "ename": "SyntaxError",
     "evalue": "invalid syntax (1462732678.py, line 11)",
     "output_type": "error",
     "traceback": [
      "\u001b[0;36m  File \u001b[0;32m\"/var/folders/ps/1lf2t0nx1tv04z_3pnr9h_0w0000gp/T/ipykernel_17069/1462732678.py\"\u001b[0;36m, line \u001b[0;32m11\u001b[0m\n\u001b[0;31m    match inst:\u001b[0m\n\u001b[0m          ^\u001b[0m\n\u001b[0;31mSyntaxError\u001b[0m\u001b[0;31m:\u001b[0m invalid syntax\n"
     ]
    }
   ],
   "source": [
    "with open(inputfile, \"r\") as f:\n",
    "    data = f.read()\n",
    "\n",
    "# pairs = re.findall(r'mul\\((\\d{1,3}),(\\d{1,3})\\)', data)\n",
    "# part1 = sum(prod(map(int, val)) for val in pairs)\n",
    "\n",
    "part1 = 0\n",
    "part2 = 0\n",
    "enabled = True\n",
    "for inst in re.findall(r\"mul\\(\\d{1,3},\\d{1,3}\\)|do\\(\\)|don't\\(\\)\", data):\n",
    "    match inst:\n",
    "        case \"do()\":\n",
    "            enabled = True\n",
    "        case \"don't()\":\n",
    "            enabled = False\n",
    "        case _:\n",
    "            x, y = map(int, inst[4:-1].split(\",\"))\n",
    "            part1 += x * y\n",
    "            if enabled:\n",
    "                part2 += x * y\n",
    "print(f\"Part2: {part2}\")"
   ]
  },
  {
   "cell_type": "code",
   "execution_count": null,
   "metadata": {},
   "outputs": [],
   "source": []
  }
 ],
 "metadata": {
  "kernelspec": {
   "display_name": "snBase",
   "language": "python",
   "name": "python3"
  },
  "language_info": {
   "codemirror_mode": {
    "name": "ipython",
    "version": 3
   },
   "file_extension": ".py",
   "mimetype": "text/x-python",
   "name": "python",
   "nbconvert_exporter": "python",
   "pygments_lexer": "ipython3",
   "version": "3.9.13"
  }
 },
 "nbformat": 4,
 "nbformat_minor": 2
}
